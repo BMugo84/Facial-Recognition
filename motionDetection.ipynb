{
 "cells": [
  {
   "cell_type": "markdown",
   "metadata": {},
   "source": [
    "in here we will be building an alarm system/motion detection based off of these three videos. the plan is to make an alarm system that captures the frame where the motion was detected mostly all the frames containing motion detection"
   ]
  },
  {
   "cell_type": "markdown",
   "metadata": {},
   "source": [
    "we are first going to import \n",
    "cv2 for webcam image handling\n",
    "imutils for cropping resizing\n",
    "threading to handle multiple frames\n",
    "winsound for alarm system"
   ]
  },
  {
   "cell_type": "code",
   "execution_count": 36,
   "metadata": {},
   "outputs": [],
   "source": [
    "import cv2\n",
    "import imutils\n",
    "import threading\n",
    "import winsound"
   ]
  },
  {
   "cell_type": "markdown",
   "metadata": {},
   "source": [
    "we then setup the webcamfeed variable, height and width"
   ]
  },
  {
   "cell_type": "code",
   "execution_count": 37,
   "metadata": {},
   "outputs": [
    {
     "data": {
      "text/plain": [
       "True"
      ]
     },
     "execution_count": 37,
     "metadata": {},
     "output_type": "execute_result"
    }
   ],
   "source": [
    "cap = cv2.VideoCapture(1)\n",
    "\n",
    "cap.set(cv2.CAP_PROP_FRAME_WIDTH, 640)\n",
    "cap.set(cv2.CAP_PROP_FRAME_HEIGHT, 480)\n"
   ]
  },
  {
   "cell_type": "markdown",
   "metadata": {},
   "source": [
    "we will get a frame and an immediate netxt frame. if there is enough differences between the frame we will sound the allarm\n",
    "so, we define a start frame, set its width to 500, convert the frame wo grayscale to view changes, then we use a gausian blur on the image to check for deviation"
   ]
  },
  {
   "cell_type": "code",
   "execution_count": 38,
   "metadata": {},
   "outputs": [],
   "source": [
    "ret, start_frame = cap.read()\n",
    "start_frame = imutils.resize(start_frame, width=500)\n",
    "start_frame = cv2.cvtColor(start_frame, cv2.COLOR_BGR2GRAY)\n",
    "start_frame = cv2.GaussianBlur(start_frame, (21, 21), 0)"
   ]
  },
  {
   "cell_type": "markdown",
   "metadata": {},
   "source": [
    "variable that check if an alarm is active, alarm mode  to check if alarm is toggled and alarm countr to set duration of alarm"
   ]
  },
  {
   "cell_type": "code",
   "execution_count": 39,
   "metadata": {},
   "outputs": [],
   "source": [
    "alarm = False\n",
    "alarm_mode = False\n",
    "alarm_counter = 0\n"
   ]
  },
  {
   "cell_type": "markdown",
   "metadata": {},
   "source": [
    "define a simple alarm function that defines what happens when an alarm is set off\n",
    "windows.beep sets the frequency pitch of the sound\n",
    "we want to produce 5 consecutive one second beeps"
   ]
  },
  {
   "cell_type": "code",
   "execution_count": 40,
   "metadata": {},
   "outputs": [],
   "source": [
    "def beep_alarm():\n",
    "    global alarm\n",
    "    for _ in range(5):\n",
    "        if not alarm_mode:\n",
    "            break\n",
    "        print(\"Alarm\")\n",
    "        winsound.Beep(2500, 1000)\n",
    "        if not alarm_mode:  # Check again after playing each beep\n",
    "            break\n",
    "    alarm = False\n",
    "\n",
    "\n"
   ]
  },
  {
   "cell_type": "markdown",
   "metadata": {},
   "source": []
  },
  {
   "cell_type": "code",
   "execution_count": 41,
   "metadata": {},
   "outputs": [
    {
     "name": "stdout",
     "output_type": "stream",
     "text": [
      "Alarm\n",
      "Alarm\n",
      "Alarm\n",
      "Alarm\n",
      "Alarm\n",
      "Alarm\n",
      "Alarm\n",
      "Alarm\n",
      "Alarm\n",
      "Alarm\n",
      "Alarm\n",
      "Alarm\n",
      "Alarm\n",
      "Alarm\n",
      "Alarm\n",
      "Alarm\n",
      "Alarm\n",
      "Alarm\n",
      "Alarm\n",
      "Alarm\n",
      "Alarm\n",
      "Alarm\n",
      "Alarm\n",
      "Alarm\n",
      "Alarm\n",
      "Alarm\n",
      "Alarm\n",
      "Alarm\n",
      "Alarm\n",
      "Alarm\n",
      "Alarm\n",
      "Alarm\n",
      "Alarm\n",
      "Alarm\n",
      "Alarm\n",
      "Alarm\n",
      "Alarm\n",
      "Alarm\n",
      "Alarm\n",
      "Alarm\n",
      "Alarm\n",
      "Alarm\n",
      "Alarm\n",
      "Alarm\n",
      "Alarm\n",
      "Alarm\n",
      "Alarm\n",
      "Alarm\n",
      "Alarm\n",
      "Alarm\n",
      "Alarm\n",
      "Alarm\n",
      "Alarm\n",
      "Alarm\n",
      "Alarm\n",
      "Alarm\n",
      "Alarm\n",
      "Alarm\n"
     ]
    }
   ],
   "source": [
    "while True:\n",
    "    ret, frame = cap.read()\n",
    "    frame = imutils.resize(frame, width=500)\n",
    "\n",
    "    if alarm_mode:\n",
    "        frame_bw = cv2.cvtColor(frame, cv2.COLOR_BGR2GRAY)\n",
    "        frame_bw = cv2.GaussianBlur(frame_bw, (5, 5), 0)\n",
    "\n",
    "        difference = cv2.absdiff(frame_bw, start_frame)\n",
    "        threshold = cv2.threshold(difference, 25, 255, cv2.THRESH_BINARY)[1]\n",
    "        start_frame = frame_bw\n",
    "\n",
    "        if threshold.sum() > 300:\n",
    "            alarm_counter += 1\n",
    "        else:\n",
    "            if alarm_counter > 0:\n",
    "                alarm_counter -= 1\n",
    "\n",
    "        cv2.imshow(\"Cam\", threshold)\n",
    "    else:\n",
    "        cv2.imshow(\"Cam\", frame)\n",
    "\n",
    "    if alarm_counter > 20 :\n",
    "        if not alarm:\n",
    "            alarm = True\n",
    "            threading.Thread(target=beep_alarm).start()\n",
    "\n",
    "    key_pressed = cv2.waitKey(30)\n",
    "    if key_pressed == ord(\"t\"):\n",
    "        alarm_mode = not alarm_mode\n",
    "        alarm_counter = 0\n",
    "    if key_pressed == ord(\"q\"):\n",
    "        alarm_mode = False\n",
    "        break\n",
    "\n",
    "cap.release()\n",
    "cv2.destroyAllWindows()\n",
    "        "
   ]
  },
  {
   "cell_type": "markdown",
   "metadata": {},
   "source": [
    "so , we are going to fetch the frame from webcam, resize the frame to 500\n",
    "\n",
    "```python\n",
    "while True:\n",
    "    ret, frame = cap.read()\n",
    "    frame = imutils.resize(frame, width=500)\n",
    "```\n",
    "\n",
    "if the alarm mode is activated then we will calculate differences btwn the frames\n",
    "we will convert the current frame to black and white then pass it through a gausian blur to reduce noise and smoothen edges.this is because we want to detect movement in edges of the person in view\n",
    "\n",
    "we then calculate the diff btwn the initial frame ie start frame and frame_bw\n",
    "we then create a threshold such that everything above 25 is 1 and everything below 25 is 0 ie threshbinasry\n",
    "then we set startframe as the frame_bw\n",
    "\n",
    "\n",
    "then, if sum of threshold is above 300, set alarm counter plus 1 otherwise reduce alarm counter\n",
    "else if there is no alarm mode, just show the frame\n",
    "```python\n",
    "    if alarm_mode:\n",
    "        frame_bw = cv2.cvtColor(frame, cv2.COLOR_BGR2GRAY)\n",
    "        frame_bw = cv2.GaussianBlur(frame_bw, (5, 5), 0)\n",
    "\n",
    "        difference = cv2.absdiff(frame_bw, start_frame)\n",
    "        threshold = cv2.threshold(difference, 25, 255, cv2.THRESH_BINARY)[1]\n",
    "        start_frame = frame_bw\n",
    "\n",
    "        if threshold.sum() > 300:\n",
    "            alarm_counter += 1\n",
    "        else:\n",
    "            if alarm_counter > 0:\n",
    "                alarm_counter -= 1\n",
    "\n",
    "        cv2.imshow(\"Cam\", threshold)\n",
    "    else:\n",
    "        cv2.imshow(\"Cam\", frame)\n",
    "```\n",
    "if alarm counter exceeds 20, sound the alarm \n",
    "```python\n",
    "    if alarm_counter > 20 :\n",
    "        if not alarm:\n",
    "            alarm = True\n",
    "            threading.Thread(target=beep_alarm).start()\n",
    "```\n",
    "set keybord press functions\n",
    "```python\n",
    "    key_pressed = cv2.waitKey(30)\n",
    "    if key_pressed == ord(\"t\"):\n",
    "        alarm_mode = not alarm_mode\n",
    "        alarm_counter = 0\n",
    "    if key_pressed == ord(\"q\"):\n",
    "        alarm_mode = False\n",
    "        break\n",
    "```\n",
    "\n",
    "cap.release()\n",
    "cv2.destroyAllWindows()"
   ]
  },
  {
   "cell_type": "code",
   "execution_count": 23,
   "metadata": {},
   "outputs": [],
   "source": [
    "# play a sound on a Windows Box (Python2 or 3)\n",
    "# Playsound(sound, flags) accepts wave sound files and uses\n",
    "# the external speaker system\n",
    "# Beep(frequency, duration) uses the internal speaker of the computer\n",
    "\n",
    "import winsound as ws\n",
    "import time\n",
    "\n",
    "# pick a wave file supplied by Windows XP or one of your own ...\n",
    "soundfile = \"C:/Windows/Media/chimes.wav\"\n",
    "ws.PlaySound(soundfile, ws.SND_FILENAME|ws.SND_ASYNC)\n",
    "\n",
    "# wait one and a half seconds\n",
    "time.sleep(1.5)\n",
    "\n",
    "# play the system exit sound if set\n",
    "ws.PlaySound(\"SystemExit\", ws.SND_ALIAS)\n",
    "\n",
    "time.sleep(1.5)\n",
    "\n",
    "frequency = 2500  # hertz or cps\n",
    "duration = 1000  # milliseconds\n",
    "ws.Beep(frequency, duration)\n",
    "\n",
    "# help('winsound')"
   ]
  },
  {
   "cell_type": "code",
   "execution_count": 33,
   "metadata": {},
   "outputs": [
    {
     "name": "stdout",
     "output_type": "stream",
     "text": [
      "Test Case 1:\n",
      "Alarm\n",
      "Alarm\n",
      "Alarm\n",
      "\n",
      "Test Case 2:\n",
      "Alarm\n",
      "\n",
      " Test case 3\n",
      "Alarm\n",
      "Alarm\n",
      "Alarm\n",
      "Alarm\n",
      "Alarm\n"
     ]
    }
   ],
   "source": [
    "import winsound\n",
    "\n",
    "def beep_alarm(beep_count=5, frequency=2500, duration=1000):\n",
    "    for _ in range(beep_count):\n",
    "        print(\"Alarm\")\n",
    "        winsound.Beep(frequency, duration)\n",
    "\n",
    "# Test cases\n",
    "print(\"Test Case 1:\")\n",
    "beep_alarm(3, 3000, 500)  # Test with 3 beeps, higher frequency, and shorter duration\n",
    "\n",
    "print(\"\\nTest Case 2:\")\n",
    "beep_alarm(1, 2000, 2000)  # Test with 1 beep, lower frequency, and longer duration\n",
    "\n",
    "print(\"\\n Test case 3\")\n",
    "beep_alarm(5, 2500, 1000)\n"
   ]
  },
  {
   "cell_type": "code",
   "execution_count": null,
   "metadata": {},
   "outputs": [],
   "source": []
  }
 ],
 "metadata": {
  "kernelspec": {
   "display_name": "facialrecognition",
   "language": "python",
   "name": "python3"
  },
  "language_info": {
   "codemirror_mode": {
    "name": "ipython",
    "version": 3
   },
   "file_extension": ".py",
   "mimetype": "text/x-python",
   "name": "python",
   "nbconvert_exporter": "python",
   "pygments_lexer": "ipython3",
   "version": "3.10.10"
  },
  "orig_nbformat": 4
 },
 "nbformat": 4,
 "nbformat_minor": 2
}
